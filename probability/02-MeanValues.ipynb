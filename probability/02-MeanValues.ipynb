{
 "cells": [
  {
   "cell_type": "markdown",
   "metadata": {
    "id": "DAP-tuCgVNdn"
   },
   "source": [
    "This worksheet is designed to study mean values for a given system. \n",
    "\n",
    "You can decide how many outcomes there are (flipping a coin = 2 outcomes, rolling a six-sided die = 6 outcomes, etc.), and then decide how many total times you will choose a result (that is, how many coins will you flip, dice you will roll, and so forth). \n",
    "\n",
    "The default outcomes will just be given by $r = 1,2,3,\\cdots, N$. "
   ]
  },
  {
   "cell_type": "markdown",
   "metadata": {
    "id": "uyiuKNy5VNdp"
   },
   "source": [
    "# Functions"
   ]
  },
  {
   "cell_type": "markdown",
   "metadata": {
    "id": "T8TsTC_tVNdr"
   },
   "source": [
    "In this section, we have imported libraries that we need in order to simulate these outcomes. If you're only interested in playing around with the results, you can skip this after you \"run\" these parts. Be sure to click on each set of lines and hit shift-enter to run those parts of the code that defines what you'll need below. Then you can ignore these and go to the next section. "
   ]
  },
  {
   "cell_type": "code",
   "execution_count": 10,
   "metadata": {
    "id": "Fo116l7_VNds"
   },
   "outputs": [],
   "source": [
    "import numpy as np\n",
    "from matplotlib import pyplot as plt\n",
    "from matplotlib import transforms\n",
    "from numpy.random import default_rng\n",
    "import scipy.stats as stats\n",
    "# import ipywidgets as widgets\n",
    "\n",
    "rng = np.random.default_rng()\n",
    "\n",
    "def run_experiments(n=None,N=None):\n",
    "    if n is None:\n",
    "        if N is None:\n",
    "            print('Input the number of outcomes (e.g., flipping a coin = 2 outcomes, rolling a six-sided die = 6 outcomes):')\n",
    "            n = int(input())\n",
    "            print('How many times will you choose them (e.g., how many coins will you flip)?')\n",
    "            N = int(input())\n",
    "    \n",
    "    rints = rng.integers(low=1, high=(n+1), size=N)\n",
    "    counts = np.zeros(n,dtype=int)\n",
    "    for i in range(n):\n",
    "        counts[i] = np.count_nonzero(rints == (i+1))\n",
    "#         print(\"For outcome r =\",str(i+1),\"occurs\",counts[i],'times.')\n",
    "#         print(\"\\tP(exp) =\",counts[i]/N)\n",
    "#         print(\"\\tP(th) =\",1./n)\n",
    "    avg = np.mean(rints)\n",
    "    std = np.sqrt(np.var(rints))\n",
    "    thavg = np.sum(np.arange(1,n+1))/n\n",
    "    thstd = np.sqrt(np.sum((np.arange(1,n+1)-thavg)**2)/n)\n",
    "    print(\"After\",N,\"runs, the average value is\",avg)\n",
    "    print(\"and the standard deviation is\",std)\n",
    "    print(\"Theoretically the mean value is\",thavg)\n",
    "    print(\"and theoretically the standard deviation is\",thstd)\n"
   ]
  },
  {
   "cell_type": "markdown",
   "metadata": {
    "id": "GbDvk0lXVNdt"
   },
   "source": [
    "# Run calculations"
   ]
  },
  {
   "cell_type": "markdown",
   "metadata": {
    "id": "HknB8xzwVNdu"
   },
   "source": [
    "Type \n",
    "\n",
    "  \trun_experiments( )\n",
    "\n",
    "and hit Enter to test this out. If you do this, you'll be asked for the number of outcomes ($n$) and the number of total \"flips\" ($N$). Alternatively you could type\n",
    "\n",
    "\trun_experiments(n = 2, N = 100)\n",
    "\n",
    "to simulate flipping 100 coints (so there are two outcomes) or say\n",
    "\n",
    "\trun_experiments(n = 6, N = 100)\n",
    "\n",
    "to roll 100 six-sided dice.\n",
    "\n",
    "You will then see the results in the form:\n",
    "\n",
    "\tAfter $N$ runs, the average value is XX\n",
    "    Theoretically the mean value is XX\n",
    "    \n",
    "for each outcome. The first result is the average obtained from the $N$ experiments and the second is what we would get theoretically. Note in all cases, we consider all individual outcomes equally likely.\n",
    "\n",
    "Test out the same setup (same number of outcomes) for larger and larger values of $N$, to see that the experimental and theoretical results agree. "
   ]
  },
  {
   "cell_type": "code",
   "execution_count": 14,
   "metadata": {
    "colab": {
     "base_uri": "https://localhost:8080/"
    },
    "id": "pxVaZ7eAVNdu",
    "outputId": "aa359e32-f6c6-4fd2-b73b-ad2fd391f0bf"
   },
   "outputs": [
    {
     "name": "stdout",
     "output_type": "stream",
     "text": [
      "After 100 runs, the average value is 3.41\n",
      "and the standard deviation is 1.6798511838850485\n",
      "Theoretically the mean value is 3.5\n",
      "and theoretically the standard deviation is 1.707825127659933\n"
     ]
    }
   ],
   "source": [
    "run_experiments(n=6,N=100)"
   ]
  },
  {
   "cell_type": "code",
   "execution_count": null,
   "metadata": {
    "id": "QbFA0VoAVNdv"
   },
   "outputs": [],
   "source": []
  }
 ],
 "metadata": {
  "colab": {
   "collapsed_sections": [
    "uyiuKNy5VNdp"
   ],
   "provenance": []
  },
  "kernelspec": {
   "display_name": "Python 3 (ipykernel)",
   "language": "python",
   "name": "python3"
  },
  "language_info": {
   "codemirror_mode": {
    "name": "ipython",
    "version": 3
   },
   "file_extension": ".py",
   "mimetype": "text/x-python",
   "name": "python",
   "nbconvert_exporter": "python",
   "pygments_lexer": "ipython3",
   "version": "3.11.0"
  }
 },
 "nbformat": 4,
 "nbformat_minor": 1
}
