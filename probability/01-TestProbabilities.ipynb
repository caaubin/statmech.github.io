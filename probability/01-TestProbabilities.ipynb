{
  "cells": [
    {
      "cell_type": "markdown",
      "metadata": {
        "id": "DAP-tuCgVNdn"
      },
      "source": [
        "This worksheet is designed to test out what \"very large\" means when looking at particular outcomes. \n",
        "\n",
        "You can decide how many outcomes there are (flipping a coin = 2 outcomes, rolling a six-sided die = 6 outcomes, etc.), and then decide how many total times you will choose a result (that is, how many coins will you flip, dice you will roll, and so forth). "
      ]
    },
    {
      "cell_type": "markdown",
      "metadata": {
        "id": "uyiuKNy5VNdp"
      },
      "source": [
        "# Functions"
      ]
    },
    {
      "cell_type": "markdown",
      "metadata": {
        "id": "T8TsTC_tVNdr"
      },
      "source": [
        "In this section, we have imported libraries that we need in order to simulate these outcomes. If you're only interested in playing around with the results, you can skip this after you \"run\" these parts. Be sure to click on each set of lines and hit shift-enter to run those parts of the code that defines what you'll need below. Then you can ignore these and go to the next section. "
      ]
    },
    {
      "cell_type": "code",
      "execution_count": 1,
      "metadata": {
        "id": "Fo116l7_VNds"
      },
      "outputs": [],
      "source": [
        "import numpy as np\n",
        "from matplotlib import pyplot as plt\n",
        "from matplotlib import transforms\n",
        "from numpy.random import default_rng\n",
        "import scipy.stats as stats\n",
        "# import ipywidgets as widgets\n",
        "\n",
        "rng = np.random.default_rng()\n",
        "\n",
        "def run_experiments(n=None,N=None):\n",
        "    if n is None:\n",
        "        if N is None:\n",
        "            print('Input the number of outcomes (e.g., flipping a coin = 2 outcomes, rolling a six-sided die = 6 outcomes):')\n",
        "            n = int(input())\n",
        "            print('How many times will you choose them (e.g., how many coins will you flip)?')\n",
        "            N = int(input())\n",
        "    \n",
        "    rints = rng.integers(low=1, high=(n+1), size=N)\n",
        "    counts = np.zeros(n,dtype=int)\n",
        "    for i in range(n):\n",
        "        counts[i] = np.count_nonzero(rints == (i+1))\n",
        "        print(\"The outcome r =\",str(i+1),\"occurs\",counts[i],'times.')\n",
        "        print(\"\\tP(exp) =\",counts[i]/N)\n",
        "        print(\"\\tP(th) =\",1./n)\n",
        "        "
      ]
    },
    {
      "cell_type": "markdown",
      "metadata": {
        "id": "GbDvk0lXVNdt"
      },
      "source": [
        "# Run calculations"
      ]
    },
    {
      "cell_type": "markdown",
      "metadata": {
        "id": "HknB8xzwVNdu"
      },
      "source": [
        "Type \n",
        "\n",
        "  \trun_experiments( )\n",
        "\n",
        "and hit Enter to test this out. If you do this, you'll be asked for the number of outcomes ($n$) and the number of total \"flips\" ($N$). Alternatively you could type\n",
        "\n",
        "\trun_experiments(n = 2, N = 100)\n",
        "\n",
        "to simulate flipping 100 coints (so there are two outcomes) or say\n",
        "\n",
        "\trun_experiments(n = 6, N = 100)\n",
        "\n",
        "to roll 100 six-sided dice.\n",
        "\n",
        "You will then see the results in the form:\n",
        "\n",
        "\tThe outcome r = ## occurs #### times.\n",
        "\t\tP(exp) = ##\n",
        "\t\tP(th) = ##\n",
        "    \n",
        "for each outcome. P(exp) is the fraction of results that occurred (so an \"experimental\" probability) and P(th) is the theoretical probability you would calculate. Note in all cases, we consider all individual outcomes equally likely.\n",
        "\n",
        "Test out the same setup (same number of outcomes) for larger and larger values of $N$, to see that the experimental and theoretical probabilities agree. "
      ]
    },
    {
      "cell_type": "code",
      "execution_count": 5,
      "metadata": {
        "colab": {
          "base_uri": "https://localhost:8080/"
        },
        "id": "pxVaZ7eAVNdu",
        "outputId": "aa359e32-f6c6-4fd2-b73b-ad2fd391f0bf"
      },
      "outputs": [
        {
          "output_type": "stream",
          "name": "stdout",
          "text": [
            "The outcome r = 1 occurs 5 times.\n",
            "\tP(exp) = 0.5\n",
            "\tP(th) = 0.5\n",
            "The outcome r = 2 occurs 5 times.\n",
            "\tP(exp) = 0.5\n",
            "\tP(th) = 0.5\n"
          ]
        }
      ],
      "source": [
        "run_experiments(n=2,N=10)"
      ]
    },
    {
      "cell_type": "code",
      "execution_count": null,
      "metadata": {
        "id": "QbFA0VoAVNdv"
      },
      "outputs": [],
      "source": []
    }
  ],
  "metadata": {
    "kernelspec": {
      "display_name": "Python 3 (ipykernel)",
      "language": "python",
      "name": "python3"
    },
    "language_info": {
      "codemirror_mode": {
        "name": "ipython",
        "version": 3
      },
      "file_extension": ".py",
      "mimetype": "text/x-python",
      "name": "python",
      "nbconvert_exporter": "python",
      "pygments_lexer": "ipython3",
      "version": "3.11.0"
    },
    "colab": {
      "provenance": [],
      "collapsed_sections": [
        "uyiuKNy5VNdp"
      ]
    }
  },
  "nbformat": 4,
  "nbformat_minor": 0
}